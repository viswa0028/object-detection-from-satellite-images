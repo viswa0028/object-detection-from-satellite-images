{
 "cells": [
  {
   "cell_type": "code",
   "execution_count": 2,
   "metadata": {},
   "outputs": [],
   "source": [
    "import torch\n",
    "import torch.nn as nn\n",
    "import torch.optim as optim\n",
    "import torchvision.transforms as transforms\n",
    "import torchvision\n",
    "from PIL import Image\n",
    "import numpy\n",
    "import cv2"
   ]
  },
  {
   "cell_type": "code",
   "execution_count": 15,
   "metadata": {},
   "outputs": [],
   "source": [
    "class ObjectDetection:\n",
    "    def __init__(self,score,train_mode = False):\n",
    "        self.score = score\n",
    "        self.model = torchvision.models.detection.fasterrcnn_resnet50_fpn(pretrained = True)\n",
    "        self.train_mode = train_mode\n",
    "        if not train_mode:\n",
    "            self.model.eval()\n",
    "        self.transform = transforms.ToTensor()\n",
    "    def object_Detection(self,img_path):\n",
    "        img = Image.open(img_path)\n",
    "        img_transform = self.transform(img)\n",
    "        with torch.no_grad():\n",
    "            pred= self.model([img_transform]) \n",
    "        bboxes,labels,scores = pred[0]['boxes'],pred[0]['labels'],pred[0]['scores']\n",
    "        mask = scores > self.score\n",
    "        bboxes = bboxes[mask]\n",
    "        labels = labels[mask]\n",
    "        scores = scores[mask]\n",
    "        return bboxes,scores,labels\n",
    "    def Draw(self,img_path,bboxes):\n",
    "        img1 = cv2.imread(img_path)\n",
    "        for box in bboxes:\n",
    "            x1,y1,x2,y2 = box.numpy().astype(int)\n",
    "            cv2.rectangle(img1,(x1,y1),(x2,y2),(255,0,0),1)\n",
    "        return img1\n",
    "    def display(self,img1):\n",
    "        cv2.imshow(\"Detected Images\",img1)\n",
    "        cv2.waitKey(0)\n",
    "        cv2.destroyAllWindows()\n",
    "    def process_image(self, image_path):\n",
    "        if self.train_mode:\n",
    "                loss = self.object_Detection(image_path)\n",
    "                print(loss)\n",
    "        else:\n",
    "            bboxes, labels, scores = self.object_Detection(image_path)\n",
    "            image_with_boxes = self.Draw(image_path, bboxes)\n",
    "            self.display(image_with_boxes)\n",
    "\n"
   ]
  },
  {
   "cell_type": "code",
   "execution_count": null,
   "metadata": {},
   "outputs": [],
   "source": [
    "if __name__ == \"__main__\":\n",
    "    detector = ObjectDetection(score=0.8)#It can be your wish\n",
    "    detector.process_image(\"your_image_path\")"
   ]
  },
  {
   "cell_type": "code",
   "execution_count": null,
   "metadata": {},
   "outputs": [],
   "source": []
  }
 ],
 "metadata": {
  "kernelspec": {
   "display_name": "Python 3",
   "language": "python",
   "name": "python3"
  },
  "language_info": {
   "codemirror_mode": {
    "name": "ipython",
    "version": 3
   },
   "file_extension": ".py",
   "mimetype": "text/x-python",
   "name": "python",
   "nbconvert_exporter": "python",
   "pygments_lexer": "ipython3",
   "version": "3.12.6"
  }
 },
 "nbformat": 4,
 "nbformat_minor": 2
}
